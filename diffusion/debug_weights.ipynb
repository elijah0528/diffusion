{
 "cells": [
  {
   "cell_type": "code",
   "execution_count": 18,
   "metadata": {},
   "outputs": [],
   "source": [
    "import torch\n",
    "import torch.nn as nn\n",
    "import torch.nn.functional as F\n",
    "from torch.optim import Adam\n",
    "from torch.utils.data import DataLoader, random_split\n",
    "from torchvision import transforms\n",
    "from datasets import load_dataset\n",
    "\n",
    "import math\n",
    "import numpy as np\n",
    "import matplotlib.pyplot as plt\n",
    "from PIL import Image\n",
    "import os\n",
    "\n",
    "import hydra\n",
    "from omegaconf import DictConfig, OmegaConf\n",
    "from collections import defaultdict\n",
    "\n",
    "from utils import FaceDataset\n",
    "from model import SimpleUNet\n"
   ]
  },
  {
   "cell_type": "code",
   "execution_count": 19,
   "metadata": {},
   "outputs": [
    {
     "name": "stderr",
     "output_type": "stream",
     "text": [
      "/var/folders/0n/_3v5_w510g31fqgxq75l3gnr0000gn/T/ipykernel_5164/1388431787.py:5: FutureWarning: You are using `torch.load` with `weights_only=False` (the current default value), which uses the default pickle module implicitly. It is possible to construct malicious pickle data which will execute arbitrary code during unpickling (See https://github.com/pytorch/pytorch/blob/main/SECURITY.md#untrusted-models for more details). In a future release, the default value for `weights_only` will be flipped to `True`. This limits the functions that could be executed during unpickling. Arbitrary objects will no longer be allowed to be loaded via this mode unless they are explicitly allowlisted by the user via `torch.serialization.add_safe_globals`. We recommend you start setting `weights_only=True` for any use case where you don't have full control of the loaded file. Please open an issue on GitHub for any issues related to this experimental feature.\n",
      "  state_dict = torch.load('test-model-weights.pth')\n"
     ]
    },
    {
     "name": "stdout",
     "output_type": "stream",
     "text": [
      "<generator object Module.named_parameters at 0x17fd68940>\n"
     ]
    }
   ],
   "source": [
    "cfg = OmegaConf.load(\"ddpm-config.yaml\")\n",
    "trainer_cfg = cfg['trainer_cfg']\n",
    "\n",
    "model = SimpleUNet(trainer_cfg)\n",
    "state_dict = torch.load('test-model-weights.pth')\n",
    "model.load_state_dict(state_dict)\n",
    "model.eval()\n",
    "\n",
    "print(model.named_parameters())"
   ]
  },
  {
   "cell_type": "code",
   "execution_count": 21,
   "metadata": {},
   "outputs": [
    {
     "name": "stdout",
     "output_type": "stream",
     "text": [
      "Dead neurons in each layer:\n",
      "time_mlp.1.weight: 9 / 1024\n",
      "conv0.weight: 0 / 1728\n",
      "downs.0.time_mlp.weight: 240 / 4096\n",
      "downs.0.conv1.weight: 71 / 73728\n",
      "downs.0.transform.weight: 314 / 262144\n",
      "downs.0.conv2.weight: 217 / 147456\n",
      "downs.0.bnorm1.weight: 0 / 128\n",
      "downs.0.bnorm2.weight: 0 / 128\n",
      "downs.1.time_mlp.weight: 610 / 8192\n",
      "downs.1.conv1.weight: 802 / 294912\n",
      "downs.1.transform.weight: 5841 / 1048576\n",
      "downs.1.conv2.weight: 1667 / 589824\n",
      "downs.1.bnorm1.weight: 0 / 256\n",
      "downs.1.bnorm2.weight: 0 / 256\n",
      "downs.2.time_mlp.weight: 1334 / 16384\n",
      "downs.2.conv1.weight: 650825 / 1179648\n",
      "downs.2.transform.weight: 3426349 / 4194304\n",
      "downs.2.conv2.weight: 1638007 / 2359296\n",
      "downs.2.bnorm1.weight: 0 / 512\n",
      "downs.2.bnorm2.weight: 0 / 512\n",
      "downs.3.time_mlp.weight: 2747 / 32768\n",
      "downs.3.conv1.weight: 3288353 / 4718592\n",
      "downs.3.transform.weight: 16167215 / 16777216\n",
      "downs.3.conv2.weight: 8147636 / 9437184\n",
      "downs.3.bnorm1.weight: 0 / 1024\n",
      "downs.3.bnorm2.weight: 0 / 1024\n",
      "ups.0.time_mlp.weight: 1364 / 16384\n",
      "ups.0.conv1.weight: 9308877 / 9437184\n",
      "ups.0.transform.weight: 3434003 / 4194304\n",
      "ups.0.conv2.weight: 1644851 / 2359296\n",
      "ups.0.bnorm1.weight: 0 / 512\n",
      "ups.0.bnorm2.weight: 0 / 512\n",
      "ups.1.time_mlp.weight: 651 / 8192\n",
      "ups.1.conv1.weight: 2030737 / 2359296\n",
      "ups.1.transform.weight: 685908 / 1048576\n",
      "ups.1.conv2.weight: 324777 / 589824\n",
      "ups.1.bnorm1.weight: 0 / 256\n",
      "ups.1.bnorm2.weight: 0 / 256\n",
      "ups.2.time_mlp.weight: 213 / 4096\n",
      "ups.2.conv1.weight: 203457 / 589824\n",
      "ups.2.transform.weight: 495 / 262144\n",
      "ups.2.conv2.weight: 97 / 147456\n",
      "ups.2.bnorm1.weight: 0 / 128\n",
      "ups.2.bnorm2.weight: 0 / 128\n",
      "ups.3.time_mlp.weight: 48 / 2048\n",
      "ups.3.conv1.weight: 105 / 147456\n",
      "ups.3.transform.weight: 8 / 65536\n",
      "ups.3.conv2.weight: 3 / 36864\n",
      "ups.3.bnorm1.weight: 0 / 64\n",
      "ups.3.bnorm2.weight: 0 / 64\n",
      "output.weight: 0 / 192\n"
     ]
    }
   ],
   "source": [
    "def check_dead_neurons(model, threshold=1e-6):\n",
    "    neurons = {}\n",
    "    for name, param in model.named_parameters():\n",
    "        if 'weight' in name:\n",
    "            neurons[name] = ((param.abs() < threshold).sum().item(), param.numel())\n",
    "    return neurons\n",
    "\n",
    "neurons = check_dead_neurons(model)\n",
    "print(\"Dead neurons in each layer:\")\n",
    "for layer, vals in neurons.items():\n",
    "    print(f\"{layer}: {vals[0]} / {vals[1]}\")\n"
   ]
  },
  {
   "cell_type": "code",
   "execution_count": null,
   "metadata": {},
   "outputs": [],
   "source": []
  }
 ],
 "metadata": {
  "kernelspec": {
   "display_name": "wisprvenv",
   "language": "python",
   "name": "python3"
  },
  "language_info": {
   "codemirror_mode": {
    "name": "ipython",
    "version": 3
   },
   "file_extension": ".py",
   "mimetype": "text/x-python",
   "name": "python",
   "nbconvert_exporter": "python",
   "pygments_lexer": "ipython3",
   "version": "3.12.6"
  }
 },
 "nbformat": 4,
 "nbformat_minor": 2
}
